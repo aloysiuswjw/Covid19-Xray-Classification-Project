{
  "nbformat": 4,
  "nbformat_minor": 0,
  "metadata": {
    "colab": {
      "provenance": [],
      "gpuType": "T4",
      "authorship_tag": "ABX9TyM0TyDU/VNACQCjCY7Yc3Gq",
      "include_colab_link": true
    },
    "kernelspec": {
      "name": "python3",
      "display_name": "Python 3"
    },
    "language_info": {
      "name": "python"
    },
    "accelerator": "GPU"
  },
  "cells": [
    {
      "cell_type": "markdown",
      "metadata": {
        "id": "view-in-github",
        "colab_type": "text"
      },
      "source": [
        "<a href=\"https://colab.research.google.com/github/pinkchocoa/CSC3009-machine-learning/blob/main/ml.ipynb\" target=\"_parent\"><img src=\"https://colab.research.google.com/assets/colab-badge.svg\" alt=\"Open In Colab\"/></a>"
      ]
    },
    {
      "cell_type": "markdown",
      "source": [
        "Preparation"
      ],
      "metadata": {
        "id": "kXjcNsyZlNko"
      }
    },
    {
      "cell_type": "markdown",
      "source": [
        "Load Dataset & Split the data into train and test sets"
      ],
      "metadata": {
        "id": "QkTolLBRlrCE"
      }
    },
    {
      "cell_type": "code",
      "source": [
        "from google.colab import drive\n",
        "\n",
        "drive.mount('/content/drive')"
      ],
      "metadata": {
        "colab": {
          "base_uri": "https://localhost:8080/"
        },
        "id": "nvt4rhDdlYzH",
        "outputId": "b9dfc5c1-e42a-420c-de83-14730ab8a0c0"
      },
      "execution_count": 1,
      "outputs": [
        {
          "output_type": "stream",
          "name": "stdout",
          "text": [
            "Mounted at /content/drive\n"
          ]
        }
      ]
    },
    {
      "cell_type": "code",
      "source": [
        "import os\n",
        "base_dir = \"/content/drive/MyDrive/dataset_18/\"\n",
        "covid_path = base_dir + \"covid/\"\n",
        "normal_path = base_dir + \"normal/\"\n",
        "img_height = 299\n",
        "img_width = 299\n",
        "img_paths=[]\n",
        "for dirname, _, filenames in os.walk(base_dir):\n",
        "    for filename in filenames:\n",
        "      _, ext = os.path.splitext(filename)\n",
        "      if ext == \".png\":\n",
        "        img_paths.append(os.path.join(dirname, filename))"
      ],
      "metadata": {
        "id": "YCwuQ-L7sM0y"
      },
      "execution_count": 29,
      "outputs": []
    },
    {
      "cell_type": "code",
      "source": [
        "from tensorflow.keras.preprocessing.image import ImageDataGenerator\n",
        "\n",
        "\n",
        "# Create an ImageDataGenerator instance with an 80-20 train-test split\n",
        "datagen = ImageDataGenerator(rescale=1./255, validation_split=0.2)\n",
        "\n",
        "# Define some parameters\n",
        "batch_size = 32  # Change if needed\n",
        "\n",
        "# Load images from the disk, applies rescaling, and resize the images\n",
        "train_data_gen = datagen.flow_from_directory(batch_size=batch_size,\n",
        "                                             directory=base_dir,\n",
        "                                             shuffle=True,\n",
        "                                             target_size=(img_height, img_width),\n",
        "                                             class_mode='binary',\n",
        "                                             subset='training')\n",
        "\n",
        "validation_data_gen = datagen.flow_from_directory(batch_size=batch_size,\n",
        "                                                  directory=base_dir,\n",
        "                                                  shuffle=True,\n",
        "                                                  target_size=(img_height, img_width),\n",
        "                                                  class_mode='binary',\n",
        "                                                  subset='validation')"
      ],
      "metadata": {
        "colab": {
          "base_uri": "https://localhost:8080/"
        },
        "id": "t3LHnYTmlbP3",
        "outputId": "363f99b4-f70c-4bc1-9d44-17748cb5e1d7"
      },
      "execution_count": 5,
      "outputs": [
        {
          "output_type": "stream",
          "name": "stdout",
          "text": [
            "Found 264 images belonging to 2 classes.\n",
            "Found 66 images belonging to 2 classes.\n"
          ]
        }
      ]
    },
    {
      "cell_type": "markdown",
      "source": [
        "CNN"
      ],
      "metadata": {
        "id": "Hi0rnty9pWi7"
      }
    },
    {
      "cell_type": "code",
      "source": [
        "# Import necessary libraries\n",
        "from tensorflow.keras.models import Sequential\n",
        "from tensorflow.keras.layers import Conv2D, MaxPooling2D, Flatten, Dense, Dropout\n",
        "\n",
        "# Define the model architecture\n",
        "CNN_model = Sequential([\n",
        "    Conv2D(32, (3, 3), activation='relu', input_shape=(img_height, img_width, 3)), # the 3 indicates color images\n",
        "    MaxPooling2D(pool_size=(2, 2)),\n",
        "\n",
        "    Conv2D(64, (3, 3), activation='relu'),\n",
        "    MaxPooling2D(pool_size=(2, 2)),\n",
        "\n",
        "    Conv2D(128, (3, 3), activation='relu'),\n",
        "    MaxPooling2D(pool_size=(2, 2)),\n",
        "\n",
        "    Dropout(0.5), # Prevent overfitting\n",
        "\n",
        "    Flatten(), # Flatten the output from the convolutional part of the CNN\n",
        "    Dense(256, activation='relu'),\n",
        "    Dropout(0.5),\n",
        "    Dense(1, activation='sigmoid') # Output layer, 'sigmoid' for binary classification\n",
        "])\n",
        "\n",
        "# Compile the model\n",
        "CNN_model.compile(loss='binary_crossentropy',\n",
        "              optimizer='adam',\n",
        "              metrics=['accuracy'])\n",
        "\n",
        "# Print a summary of the model\n",
        "CNN_model.summary()"
      ],
      "metadata": {
        "colab": {
          "base_uri": "https://localhost:8080/"
        },
        "id": "_CKGhm3wpXI_",
        "outputId": "edc86821-0b9a-4de1-da9d-1b3ccc5b994d"
      },
      "execution_count": 6,
      "outputs": [
        {
          "output_type": "stream",
          "name": "stdout",
          "text": [
            "Model: \"sequential\"\n",
            "_________________________________________________________________\n",
            " Layer (type)                Output Shape              Param #   \n",
            "=================================================================\n",
            " conv2d (Conv2D)             (None, 297, 297, 32)      896       \n",
            "                                                                 \n",
            " max_pooling2d (MaxPooling2D  (None, 148, 148, 32)     0         \n",
            " )                                                               \n",
            "                                                                 \n",
            " conv2d_1 (Conv2D)           (None, 146, 146, 64)      18496     \n",
            "                                                                 \n",
            " max_pooling2d_1 (MaxPooling  (None, 73, 73, 64)       0         \n",
            " 2D)                                                             \n",
            "                                                                 \n",
            " conv2d_2 (Conv2D)           (None, 71, 71, 128)       73856     \n",
            "                                                                 \n",
            " max_pooling2d_2 (MaxPooling  (None, 35, 35, 128)      0         \n",
            " 2D)                                                             \n",
            "                                                                 \n",
            " dropout (Dropout)           (None, 35, 35, 128)       0         \n",
            "                                                                 \n",
            " flatten (Flatten)           (None, 156800)            0         \n",
            "                                                                 \n",
            " dense (Dense)               (None, 256)               40141056  \n",
            "                                                                 \n",
            " dropout_1 (Dropout)         (None, 256)               0         \n",
            "                                                                 \n",
            " dense_1 (Dense)             (None, 1)                 257       \n",
            "                                                                 \n",
            "=================================================================\n",
            "Total params: 40,234,561\n",
            "Trainable params: 40,234,561\n",
            "Non-trainable params: 0\n",
            "_________________________________________________________________\n"
          ]
        }
      ]
    },
    {
      "cell_type": "code",
      "source": [
        "epochs = 20 # You can change this value\n",
        "\n",
        "#REFERENCE: LAB05\n",
        "#TODO: add full batch gradient descent\n",
        "#TODO: try different batch_sizes\n",
        "#TODO: start fine tuning from a certain layer\n",
        "history = CNN_model.fit(train_data_gen,\n",
        "                    validation_data=validation_data_gen,\n",
        "                    steps_per_epoch=len(train_data_gen),\n",
        "                    validation_steps=len(validation_data_gen),\n",
        "                    epochs=epochs)\n"
      ],
      "metadata": {
        "colab": {
          "base_uri": "https://localhost:8080/"
        },
        "id": "gBBjyGd7paFa",
        "outputId": "fb2d63a3-e8fe-48eb-d469-b5df5f3e4ab2"
      },
      "execution_count": 7,
      "outputs": [
        {
          "output_type": "stream",
          "name": "stdout",
          "text": [
            "Epoch 1/20\n",
            "9/9 [==============================] - 55s 5s/step - loss: 1.0011 - accuracy: 0.5530 - val_loss: 0.7445 - val_accuracy: 0.4545\n",
            "Epoch 2/20\n",
            "9/9 [==============================] - 2s 231ms/step - loss: 0.6716 - accuracy: 0.5606 - val_loss: 0.5671 - val_accuracy: 0.8333\n",
            "Epoch 3/20\n",
            "9/9 [==============================] - 2s 227ms/step - loss: 0.5589 - accuracy: 0.7273 - val_loss: 0.7493 - val_accuracy: 0.5758\n",
            "Epoch 4/20\n",
            "9/9 [==============================] - 2s 230ms/step - loss: 0.5471 - accuracy: 0.7841 - val_loss: 0.3511 - val_accuracy: 0.8636\n",
            "Epoch 5/20\n",
            "9/9 [==============================] - 2s 230ms/step - loss: 0.4162 - accuracy: 0.8561 - val_loss: 0.3911 - val_accuracy: 0.8182\n",
            "Epoch 6/20\n",
            "9/9 [==============================] - 3s 317ms/step - loss: 0.3584 - accuracy: 0.8788 - val_loss: 0.3240 - val_accuracy: 0.8485\n",
            "Epoch 7/20\n",
            "9/9 [==============================] - 2s 224ms/step - loss: 0.3345 - accuracy: 0.8826 - val_loss: 0.4122 - val_accuracy: 0.8939\n",
            "Epoch 8/20\n",
            "9/9 [==============================] - 2s 218ms/step - loss: 0.3753 - accuracy: 0.8523 - val_loss: 0.4417 - val_accuracy: 0.8485\n",
            "Epoch 9/20\n",
            "9/9 [==============================] - 2s 214ms/step - loss: 0.2500 - accuracy: 0.9053 - val_loss: 0.3202 - val_accuracy: 0.9091\n",
            "Epoch 10/20\n",
            "9/9 [==============================] - 2s 226ms/step - loss: 0.2354 - accuracy: 0.9015 - val_loss: 0.6117 - val_accuracy: 0.7727\n",
            "Epoch 11/20\n",
            "9/9 [==============================] - 3s 278ms/step - loss: 0.1750 - accuracy: 0.9280 - val_loss: 0.4632 - val_accuracy: 0.8030\n",
            "Epoch 12/20\n",
            "9/9 [==============================] - 2s 240ms/step - loss: 0.1820 - accuracy: 0.9508 - val_loss: 0.3909 - val_accuracy: 0.8182\n",
            "Epoch 13/20\n",
            "9/9 [==============================] - 2s 212ms/step - loss: 0.1769 - accuracy: 0.9205 - val_loss: 0.3649 - val_accuracy: 0.8485\n",
            "Epoch 14/20\n",
            "9/9 [==============================] - 2s 228ms/step - loss: 0.1782 - accuracy: 0.9394 - val_loss: 0.3323 - val_accuracy: 0.9091\n",
            "Epoch 15/20\n",
            "9/9 [==============================] - 2s 227ms/step - loss: 0.1332 - accuracy: 0.9583 - val_loss: 0.4740 - val_accuracy: 0.8333\n",
            "Epoch 16/20\n",
            "9/9 [==============================] - 2s 263ms/step - loss: 0.0895 - accuracy: 0.9583 - val_loss: 0.4403 - val_accuracy: 0.8788\n",
            "Epoch 17/20\n",
            "9/9 [==============================] - 3s 319ms/step - loss: 0.0479 - accuracy: 0.9886 - val_loss: 0.4901 - val_accuracy: 0.8788\n",
            "Epoch 18/20\n",
            "9/9 [==============================] - 2s 219ms/step - loss: 0.0984 - accuracy: 0.9659 - val_loss: 0.5218 - val_accuracy: 0.8939\n",
            "Epoch 19/20\n",
            "9/9 [==============================] - 2s 226ms/step - loss: 0.3490 - accuracy: 0.8826 - val_loss: 0.7190 - val_accuracy: 0.7273\n",
            "Epoch 20/20\n",
            "9/9 [==============================] - 2s 228ms/step - loss: 0.2872 - accuracy: 0.8977 - val_loss: 0.4727 - val_accuracy: 0.7879\n"
          ]
        }
      ]
    },
    {
      "cell_type": "code",
      "source": [
        "import pylab as plt\n",
        "def plot_history(history):\n",
        "  plt.plot(history.history['loss'])\n",
        "  plt.plot(history.history['val_loss'])\n",
        "  plt.ylabel('loss')\n",
        "  plt.xlabel('epoch')\n",
        "  plt.legend(['train', 'val'], loc='upper left')\n",
        "  plt.show()\n",
        "plot_history(history)"
      ],
      "metadata": {
        "colab": {
          "base_uri": "https://localhost:8080/",
          "height": 449
        },
        "id": "MUpe_4mRqLow",
        "outputId": "56003729-ef32-4314-ecb5-b392bc0cd866"
      },
      "execution_count": 14,
      "outputs": [
        {
          "output_type": "display_data",
          "data": {
            "text/plain": [
              "<Figure size 640x480 with 1 Axes>"
            ],
            "image/png": "[encoded data removed]"
          },
          "metadata": {}
        }
      ]
    },
    {
      "cell_type": "markdown",
      "source": [
        "RNN"
      ],
      "metadata": {
        "id": "I4LFmmUJqVAw"
      }
    },
    {
      "cell_type": "code",
      "source": [
        "from sklearn.model_selection import train_test_split\n",
        "#RNN cannot use ImageDataGenerator output\n",
        "#preprocess datasets for RNN\n",
        "import cv2\n",
        "# Now, we will load images, convert to grayscale (or you can keep as RGB), normalize and flatten\n",
        "data = []\n",
        "labels = []\n",
        "\n",
        "def get_label(file):\n",
        "    folder_path = os.path.dirname(file)\n",
        "    folder_name = os.path.basename(folder_path)\n",
        "    return folder_name\n",
        "\n",
        "for file in img_paths:\n",
        "    folder_name = get_label(file)\n",
        "    if folder_name == 'covid':\n",
        "        labels.append(1)\n",
        "    elif folder_name == 'normal':\n",
        "        labels.append(0)\n",
        "    else:\n",
        "        print(f\"Unexpected folder name {folder_name} for file {file}\")\n",
        "\n",
        "    img = cv2.imread(file)  # read the image\n",
        "    img = cv2.cvtColor(img, cv2.COLOR_BGR2GRAY)  # convert to grayscale\n",
        "    img = cv2.resize(img, (299, 299))  # resize image\n",
        "    img = img / 255.0  # normalize pixel values\n",
        "    data.append(img)\n",
        "\n",
        "data = np.array(data)\n",
        "labels = np.array(labels)\n",
        "\n",
        "#TODO: change test size\n",
        "\n",
        "# Split the data into training and test sets\n",
        "X_train, X_test, y_train, y_test = train_test_split(data, labels, test_size=0.2, random_state=42)"
      ],
      "metadata": {
        "id": "RJQbEmaxsETe"
      },
      "execution_count": 88,
      "outputs": []
    },
    {
      "cell_type": "code",
      "source": [
        "from tensorflow.keras.models import Sequential\n",
        "from tensorflow.keras.layers import SimpleRNN, Dense, Flatten\n",
        "\n",
        "def build_RNN(hidden_units, dense_units, input_shape, activation):\n",
        "    model = Sequential()\n",
        "    model.add(SimpleRNN(hidden_units, input_shape=input_shape,\n",
        "                        activation=activation[0]))\n",
        "    model.add(Dense(units=dense_units, activation=activation[1]))\n",
        "    model.compile(loss='mean_squared_error', optimizer='adam')\n",
        "    return model\n",
        "\n",
        "RNN_model = build_RNN(50, 1, (299, 299), activation=['relu', 'sigmoid'])\n",
        "\n",
        "RNN_model.summary()\n",
        "\n"
      ],
      "metadata": {
        "colab": {
          "base_uri": "https://localhost:8080/"
        },
        "id": "aNkee9_cqV3d",
        "outputId": "201ae878-9ed2-47a5-9488-9d05be88f8c7"
      },
      "execution_count": 89,
      "outputs": [
        {
          "output_type": "stream",
          "name": "stdout",
          "text": [
            "Model: \"sequential_13\"\n",
            "_________________________________________________________________\n",
            " Layer (type)                Output Shape              Param #   \n",
            "=================================================================\n",
            " simple_rnn_10 (SimpleRNN)   (None, 50)                17500     \n",
            "                                                                 \n",
            " dense_16 (Dense)            (None, 1)                 51        \n",
            "                                                                 \n",
            "=================================================================\n",
            "Total params: 17,551\n",
            "Trainable params: 17,551\n",
            "Non-trainable params: 0\n",
            "_________________________________________________________________\n"
          ]
        }
      ]
    },
    {
      "cell_type": "markdown",
      "source": [
        "Show the weights and biases of all neurons."
      ],
      "metadata": {
        "id": "qnT3V49br5RH"
      }
    },
    {
      "cell_type": "code",
      "source": [
        "# wx = RNN_model.get_weights()[0]\n",
        "# wh = RNN_model.get_weights()[1]\n",
        "# bh = RNN_model.get_weights()[2]\n",
        "# w0 = RNN_model.get_weights()[3]\n",
        "# b0 = RNN_model.get_weights()[4]\n",
        "\n",
        "# print('wx = ', wx, ' wh = ', wh, ' bh = ', bh, ' w0 =', w0, 'b0 = ', b0)"
      ],
      "metadata": {
        "id": "GEXLc1B3r519"
      },
      "execution_count": 86,
      "outputs": []
    },
    {
      "cell_type": "code",
      "source": [
        "import numpy as np\n",
        "import random\n",
        "\n",
        "random_index = random.randint(0, len(img_paths) - 1)\n",
        "test_path = img_paths[random_index]\n",
        "test_img = cv2.imread(test_path, cv2.IMREAD_GRAYSCALE)\n",
        "test_img = cv2.resize(test_img, (299, 299))  # resize to match the model's expected input size\n",
        "x = test_img / 255.0  # normalize pixel values to [0,1] as done for training data\n",
        "x_input = np.reshape(x, (1, 299, 299))  # flatten height and width into single dimension\n",
        "# Reshape the input to the required sample_size x time_steps x features\n",
        "y_pred_model = RNN_model.predict(x_input)\n",
        "\n",
        "print(\"Prediction from network (1 == covid, 0 == normal): \", y_pred_model)\n",
        "print(\"Actual: \", get_label(img_paths[random_index]))"
      ],
      "metadata": {
        "colab": {
          "base_uri": "https://localhost:8080/"
        },
        "id": "ei7fvE0dr89-",
        "outputId": "c9e421c6-9b86-4f4e-91a2-529204121cac"
      },
      "execution_count": 92,
      "outputs": [
        {
          "output_type": "stream",
          "name": "stderr",
          "text": [
            "WARNING:tensorflow:6 out of the last 15 calls to <function Model.make_predict_function.<locals>.predict_function at 0x7f5bf3e813f0> triggered tf.function retracing. Tracing is expensive and the excessive number of tracings could be due to (1) creating @tf.function repeatedly in a loop, (2) passing tensors with different shapes, (3) passing Python objects instead of tensors. For (1), please define your @tf.function outside of the loop. For (2), @tf.function has reduce_retracing=True option that can avoid unnecessary retracing. For (3), please refer to https://www.tensorflow.org/guide/function#controlling_retracing and https://www.tensorflow.org/api_docs/python/tf/function for  more details.\n"
          ]
        },
        {
          "output_type": "stream",
          "name": "stdout",
          "text": [
            "1/1 [==============================] - 0s 155ms/step\n",
            "Prediction from network (1 == covid, 0 == normal):  [[0.05209123]]\n",
            "Actual:  normal\n"
          ]
        }
      ]
    },
    {
      "cell_type": "code",
      "source": [
        "epochs = 10 # Adjust as necessary\n",
        "history = RNN_model.fit(X_train, y_train, epochs=epochs, batch_size=32, validation_split=0.2)\n"
      ],
      "metadata": {
        "colab": {
          "base_uri": "https://localhost:8080/"
        },
        "id": "RkcqJkdNq0O6",
        "outputId": "25ea6bc6-9f47-4d0d-d71f-dec5847d9efb"
      },
      "execution_count": 93,
      "outputs": [
        {
          "output_type": "stream",
          "name": "stdout",
          "text": [
            "Epoch 1/10\n",
            "7/7 [==============================] - 4s 401ms/step - loss: 0.3006 - val_loss: 0.2252\n",
            "Epoch 2/10\n",
            "7/7 [==============================] - 2s 283ms/step - loss: 0.2258 - val_loss: 0.2053\n",
            "Epoch 3/10\n",
            "7/7 [==============================] - 1s 199ms/step - loss: 0.2237 - val_loss: 0.2037\n",
            "Epoch 4/10\n",
            "7/7 [==============================] - 1s 205ms/step - loss: 0.2223 - val_loss: 0.2037\n",
            "Epoch 5/10\n",
            "7/7 [==============================] - 1s 211ms/step - loss: 0.2188 - val_loss: 0.2009\n",
            "Epoch 6/10\n",
            "7/7 [==============================] - 1s 200ms/step - loss: 0.2242 - val_loss: 0.1985\n",
            "Epoch 7/10\n",
            "7/7 [==============================] - 1s 189ms/step - loss: 0.2196 - val_loss: 0.2015\n",
            "Epoch 8/10\n",
            "7/7 [==============================] - 1s 196ms/step - loss: 0.2155 - val_loss: 0.1985\n",
            "Epoch 9/10\n",
            "7/7 [==============================] - 1s 211ms/step - loss: 0.2148 - val_loss: 0.1987\n",
            "Epoch 10/10\n",
            "7/7 [==============================] - 2s 356ms/step - loss: 0.2110 - val_loss: 0.1966\n"
          ]
        }
      ]
    },
    {
      "cell_type": "code",
      "source": [
        "plot_history(history)"
      ],
      "metadata": {
        "colab": {
          "base_uri": "https://localhost:8080/",
          "height": 449
        },
        "id": "bo1PBq3ZyyHv",
        "outputId": "adcf9c7b-9752-408f-fb03-8125a638ce7a"
      },
      "execution_count": 94,
      "outputs": [
        {
          "output_type": "display_data",
          "data": {
            "text/plain": [
              "<Figure size 640x480 with 1 Axes>"
            ],
            "image/png": "[encoded data removed]"
          },
          "metadata": {}
        }
      ]
    }
  ]
}