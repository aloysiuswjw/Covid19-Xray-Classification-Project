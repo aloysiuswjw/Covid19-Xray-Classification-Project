{
 "cells": [
  {
   "cell_type": "code",
   "execution_count": 12,
   "metadata": {},
   "outputs": [],
   "source": [
    "import os\n",
    "import numpy as np\n",
    "from skimage.io import imread\n",
    "from skimage.transform import resize"
   ]
  },
  {
   "cell_type": "code",
   "execution_count": 13,
   "metadata": {},
   "outputs": [],
   "source": [
    "from skimage.feature import graycomatrix, graycoprops\n",
    "from skimage.color import rgb2gray\n",
    "from skimage import img_as_ubyte, feature\n",
    "# print(skimage.__version__)\n",
    "def extract_features(image):\n",
    "\n",
    "    #Convert it to a gray image\n",
    "    image_gray = rgb2gray(image)\n",
    "    # print(image_gray.shape)\n",
    "\n",
    "    # Rescale the image to 0-255 and convert to uint8\n",
    "    image_gray = img_as_ubyte(image_gray)\n",
    "\n",
    "    # Compute the GLCM and Haralick texture features\n",
    "    glcm = graycomatrix(image_gray, distances=[5], angles=[0], levels=256, symmetric=True, normed=True)\n",
    "    contrast = graycoprops(glcm, 'contrast')[0, 0]\n",
    "    dissimilarity = graycoprops(glcm, 'dissimilarity')[0, 0]\n",
    "    homogeneity = graycoprops(glcm, 'homogeneity')[0, 0]\n",
    "    energy = graycoprops(glcm, 'energy')[0, 0]\n",
    "    correlation = graycoprops(glcm, 'correlation')[0, 0]\n",
    "    haralick_features = np.array([contrast, dissimilarity, homogeneity, energy, correlation])\n",
    "\n",
    "    # Compute the HOG features\n",
    "    hog_features = feature.hog(image_gray,orientations=9, pixels_per_cell=(8, 8), cells_per_block=(2, 2), block_norm='L2-Hys')\n",
    "\n",
    "    # Combine the Haralick and HOG features into a single feature vector\n",
    "    features = np.concatenate((haralick_features, hog_features))\n",
    "\n",
    "    return features"
   ]
  },
  {
   "cell_type": "code",
   "execution_count": 14,
   "metadata": {},
   "outputs": [],
   "source": [
    "def load_images_from_folder(folder_name, categories, image_size=(150, 150, 3)):\n",
    "    \"\"\"\n",
    "    Load images from a specified folder, resize them to the same size, and flatten them.\n",
    "    \n",
    "    Args:\n",
    "    folder_name (str): The folder in which the images are stored.\n",
    "    categories (list of str): The categories of images.\n",
    "    image_size (tuple): The size to which to resize the images.\n",
    "\n",
    "    Returns:\n",
    "    flat_data_arr (list): The list of flattened, resized images.\n",
    "    target_arr (list): The list of target categories for each image.\n",
    "    \"\"\"\n",
    "    flat_data_arr = []\n",
    "    target_arr = []\n",
    "    \n",
    "    for i, category in enumerate(categories):\n",
    "        print(f'Loading... category: {category}')\n",
    "        category_path = os.path.join(folder_name, category)\n",
    "        \n",
    "        if not os.path.isdir(category_path):\n",
    "            print(f'Category path {category_path} not found')\n",
    "            continue\n",
    "\n",
    "        for img_file in os.listdir(category_path):\n",
    "            img_file_path = os.path.join(category_path, img_file)\n",
    "            \n",
    "            try:\n",
    "                img_array = imread(img_file_path)\n",
    "                img_resized = resize(img_array, image_size)\n",
    "                features = extract_features(img_resized)\n",
    "                flat_data_arr.append(features)\n",
    "                target_arr.append(i)\n",
    "                # flat_data_arr.append(img_resized.flatten())\n",
    "                # target_arr.append(i)\n",
    "            except:\n",
    "                print(f'Error occurred while processing file {img_file_path}')\n",
    "                continue\n",
    "\n",
    "        print(f'Loaded category: {category} successfully')\n",
    "    \n",
    "    return flat_data_arr, target_arr , img_resized"
   ]
  },
  {
   "cell_type": "code",
   "execution_count": 15,
   "metadata": {},
   "outputs": [
    {
     "name": "stdout",
     "output_type": "stream",
     "text": [
      "Loading... category: covid\n",
      "Loaded category: covid successfully\n",
      "Loading... category: normal\n",
      "Loaded category: normal successfully\n"
     ]
    }
   ],
   "source": [
    "# Usage:\n",
    "categories = ['covid', 'normal']\n",
    "flat_data, target, img_resized = load_images_from_folder('dataset_18', categories)\n",
    "flat_data = np.array(flat_data)\n",
    "target = np.array(target)"
   ]
  },
  {
   "cell_type": "code",
   "execution_count": 23,
   "metadata": {},
   "outputs": [],
   "source": [
    "from sklearn.model_selection import train_test_split\n",
    "# Splitting the data into training and testing sets\n",
    "x_train,x_test,y_train,y_test=train_test_split(flat_data,target,test_size=0.3,\n",
    "                                               random_state=1,\n",
    "                                               stratify=target)\n",
    "\n",
    "x_test,x_val,y_test,y_val = train_test_split(x_test,y_test,test_size=0.5,random_state=1,stratify=y_test)                                "
   ]
  },
  {
   "cell_type": "code",
   "execution_count": 25,
   "metadata": {},
   "outputs": [
    {
     "data": {
      "text/plain": [
       "array([0, 1, 0, 1, 0, 1, 1, 0, 0, 0, 1, 1, 0, 1, 0, 0, 1, 1, 1, 0, 1, 1,\n",
       "       0, 1, 0, 1, 0, 0, 1, 1, 1, 1, 1, 0, 0, 1, 1, 1, 0, 1, 1, 0, 0, 1,\n",
       "       1, 1, 1, 0, 1, 0, 1, 1, 0, 1, 0, 1, 1, 1, 0, 0, 1, 0, 1, 0, 1])"
      ]
     },
     "execution_count": 25,
     "metadata": {},
     "output_type": "execute_result"
    }
   ],
   "source": [
    "y_val"
   ]
  }
 ],
 "metadata": {
  "kernelspec": {
   "display_name": "Python 3",
   "language": "python",
   "name": "python3"
  },
  "language_info": {
   "codemirror_mode": {
    "name": "ipython",
    "version": 3
   },
   "file_extension": ".py",
   "mimetype": "text/x-python",
   "name": "python",
   "nbconvert_exporter": "python",
   "pygments_lexer": "ipython3",
   "version": "3.8.10"
  },
  "orig_nbformat": 4
 },
 "nbformat": 4,
 "nbformat_minor": 2
}
