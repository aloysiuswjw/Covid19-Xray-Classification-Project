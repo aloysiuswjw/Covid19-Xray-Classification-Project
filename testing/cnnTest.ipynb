{
 "cells": [
  {
   "cell_type": "code",
   "execution_count": 13,
   "metadata": {},
   "outputs": [
    {
     "name": "stdout",
     "output_type": "stream",
     "text": [
      "WARNING:tensorflow:No training configuration found in save file, so the model was *not* compiled. Compile it manually.\n"
     ]
    }
   ],
   "source": [
    "from tensorflow.keras.models import load_model\n",
    "import numpy as np\n",
    "import os\n",
    "import cv2\n",
    "from sklearn.model_selection import train_test_split\n",
    "from tensorflow.keras.utils import to_categorical\n",
    "from sklearn.preprocessing import LabelEncoder\n",
    "from sklearn.metrics import classification_report\n",
    "from sklearn.metrics import roc_auc_score\n",
    "\n",
    "# Load the model\n",
    "cnn_model = load_model('cnn_model')\n",
    "encoder = load_model('encoder_model')\n"
   ]
  },
  {
   "cell_type": "code",
   "execution_count": 14,
   "metadata": {},
   "outputs": [],
   "source": [
    "# Preprocessing\n",
    "\n",
    "base_dir = \"./dataset_5/\"\n",
    "categories = [\"covid\", \"normal\"]\n",
    "img_height = 256\n",
    "img_width = 256\n",
    "img_paths=[]\n",
    "def load_images(base_dir, categories):\n",
    "    images = []\n",
    "    labels = []\n",
    "\n",
    "    for category in categories:\n",
    "        path = os.path.join(base_dir, category)\n",
    "        class_num = categories.index(category)  # Assign an integer label to each category\n",
    "\n",
    "        # Iterate over each image in the category directory\n",
    "        for img in os.listdir(path):\n",
    "            try:\n",
    "                # Load the image from the disk\n",
    "                img_array = cv2.imread(os.path.join(path, img))\n",
    "                \n",
    "                # Resize the image\n",
    "                img_resized = cv2.resize(img_array, (img_height, img_width))\n",
    "\n",
    "                # Normalize pixel values\n",
    "                img_resized = img_resized / 255.0\n",
    "\n",
    "                images.append(img_resized)\n",
    "                labels.append(class_num)\n",
    "            except Exception as e:\n",
    "                print(f\"Error: {e}\")\n",
    "\n",
    "    return np.array(images), np.array(labels)\n",
    "\n",
    "images, labels = load_images(base_dir, categories)\n",
    "# Encoding labels: 'COVID' to 0 and 'Normal' to 1\n",
    "le = LabelEncoder()\n",
    "labels = le.fit_transform(labels)\n",
    "labels = to_categorical(labels)\n"
   ]
  },
  {
   "cell_type": "code",
   "execution_count": 15,
   "metadata": {},
   "outputs": [
    {
     "name": "stdout",
     "output_type": "stream",
     "text": [
      "14/14 [==============================] - 11s 834ms/step\n"
     ]
    }
   ],
   "source": [
    "encoded_images = encoder.predict(images)\n",
    "x_train_encoded, x_test_encoded, y_train_encoded, y_test_encoded = train_test_split(\n",
    "    encoded_images, \n",
    "    labels,\n",
    "    test_size=0.2, \n",
    "    random_state= 123,\n",
    "    stratify = labels)\n"
   ]
  },
  {
   "cell_type": "code",
   "execution_count": 16,
   "metadata": {},
   "outputs": [
    {
     "name": "stdout",
     "output_type": "stream",
     "text": [
      "3/3 [==============================] - 0s 4ms/step\n",
      "              precision    recall  f1-score   support\n",
      "\n",
      "       covid       0.79      0.83      0.81        36\n",
      "      normal       0.88      0.84      0.86        50\n",
      "\n",
      "    accuracy                           0.84        86\n",
      "   macro avg       0.83      0.84      0.83        86\n",
      "weighted avg       0.84      0.84      0.84        86\n",
      "\n",
      "3/3 [==============================] - 0s 6ms/step\n",
      "AUC-ROC: 0.9227777777777778\n"
     ]
    }
   ],
   "source": [
    "def report(x_test_encoded, y_test_encoded, model):\n",
    "    # Perform predictions on the test set\n",
    "    y_pred = model.predict(x_test_encoded)\n",
    "    y_pred_classes = np.argmax(y_pred, axis=1)\n",
    "    y_test_classes = np.argmax(y_test_encoded, axis=1) \n",
    "\n",
    "    # Print classification report\n",
    "    print(classification_report(y_test_classes, y_pred_classes, target_names=categories))\n",
    "\n",
    "report(x_test_encoded, y_test_encoded, cnn_model)\n",
    "\n",
    "\n",
    "def auc_roc(x_test_encoded, model):\n",
    "    # Use the model to predict the probabilities for the test set\n",
    "    y_prob = model.predict(x_test_encoded)\n",
    "\n",
    "    # Compute the AUC-ROC\n",
    "    roc_auc = roc_auc_score(y_test_encoded, y_prob)\n",
    "\n",
    "    print('AUC-ROC:', roc_auc)\n",
    "\n",
    "auc_roc(x_test_encoded, cnn_model)\n"
   ]
  }
 ],
 "metadata": {
  "kernelspec": {
   "display_name": "env",
   "language": "python",
   "name": "python3"
  },
  "language_info": {
   "codemirror_mode": {
    "name": "ipython",
    "version": 3
   },
   "file_extension": ".py",
   "mimetype": "text/x-python",
   "name": "python",
   "nbconvert_exporter": "python",
   "pygments_lexer": "ipython3",
   "version": "3.9.17"
  },
  "orig_nbformat": 4
 },
 "nbformat": 4,
 "nbformat_minor": 2
}
